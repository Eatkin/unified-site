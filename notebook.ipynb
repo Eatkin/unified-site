{
 "cells": [
  {
   "cell_type": "code",
   "execution_count": 41,
   "metadata": {},
   "outputs": [],
   "source": [
    "from google.cloud import storage\n",
    "from firebase_admin import firestore, initialize_app\n",
    "\n",
    "# Establish a connection to the Google Cloud Storage and Firestore\n",
    "storage_client = storage.Client()\n",
    "bucket = storage_client.bucket('website-content12345')\n",
    "initialize_app()\n",
    "db = firestore.client()"
   ]
  },
  {
   "cell_type": "code",
   "execution_count": 2,
   "metadata": {},
   "outputs": [
    {
     "data": {
      "text/plain": [
       "update_time {\n",
       "  seconds: 1720282478\n",
       "  nanos: 194105000\n",
       "}"
      ]
     },
     "execution_count": 2,
     "metadata": {},
     "output_type": "execute_result"
    }
   ],
   "source": [
    "from datetime import datetime\n",
    "# Okay let's insert some data into Firestore\n",
    "doc_ref = db.collection('feed').document('content-log')\n",
    "\n",
    "timestamp = datetime.now()\n",
    "timestamp = timestamp.strftime(\"%Y-%m-%d %H:%M:%S\")\n",
    "\n",
    "data = {\n",
    "    timestamp: {\n",
    "        'title': 'Test Blog',\n",
    "        'location': 'blogs/test-blog.md',\n",
    "    }\n",
    "}\n",
    "\n",
    "# Upload it\n",
    "doc_ref.set(data)"
   ]
  },
  {
   "cell_type": "code",
   "execution_count": 4,
   "metadata": {},
   "outputs": [
    {
     "data": {
      "text/plain": [
       "{'2024-07-06 17:14:38': {'location': 'blogs/test-blog.md'}}"
      ]
     },
     "execution_count": 4,
     "metadata": {},
     "output_type": "execute_result"
    }
   ],
   "source": [
    "feed = db.collection('feed').document('content-log')\n",
    "data = feed.get().to_dict()\n",
    "\n",
    "# Sort by key (timestamp) desc\n",
    "data = dict(sorted(data.items(), key=lambda item: item[0], reverse=True))\n",
    "data"
   ]
  },
  {
   "cell_type": "code",
   "execution_count": 9,
   "metadata": {},
   "outputs": [
    {
     "data": {
      "text/plain": [
       "{'title': 'Test Post',\n",
       " 'author': 'Ed',\n",
       " 'date': '2024-07-06',\n",
       " 'tags': '\"coding\", \"python\"',\n",
       " 'type': 'blog',\n",
       " 'description': 'This is a blog post about coding in Python.',\n",
       " 'thumbnail': 'images/awesome-blog-post-thumbnail.jpg',\n",
       " 'og_title': 'Awesome Blog Post',\n",
       " 'og_description': 'An amazing blog post about coding in Python.',\n",
       " 'og_image': 'images/awesome-blog-post-og.jpg'}"
      ]
     },
     "execution_count": 9,
     "metadata": {},
     "output_type": "execute_result"
    }
   ],
   "source": [
    "for key, value in data.items():\n",
    "    blob = bucket.blob(value['location'])\n",
    "    md = blob.download_as_string().decode('utf-8')\n",
    "\n",
    "# We can capture the section between --- and --- and use it as metadata\n",
    "metadata = md.split('---')[1]\n",
    "description = {}\n",
    "for line in metadata.split('\\n'):\n",
    "    if line:\n",
    "        split_line = line.split(':')\n",
    "        key = split_line[0].strip()\n",
    "        # Remove the quotes\n",
    "        value = \":\".join(split_line[1:]).strip()[1:-1]\n",
    "        description[key.strip()] = value\n",
    "\n",
    "description"
   ]
  },
  {
   "cell_type": "code",
   "execution_count": 2,
   "metadata": {},
   "outputs": [
    {
     "name": "stdout",
     "output_type": "stream",
     "text": [
      "['test-dir/2024/January/books.md', 'test-dir/2024/February/hip.md', 'test-dir/2024/May/discord.md', 'test-dir/2024/April/internet.md', 'test-dir/2024/March/horses.md', 'test-dir/2023/December/depressed.md', 'test-dir/2023/December/charlmes.md', 'test-dir/2023/July/burnout.md', 'test-dir/2023/July/onrss.md', 'test-dir/2023/July/dustydrawers.md', 'test-dir/2023/August/stress.md', 'test-dir/2023/August/prank.md', 'test-dir/2023/February/stumbleupon.md', 'test-dir/2023/June/alcoholism.md', 'test-dir/2023/June/oldwebsites.md', 'test-dir/2023/April/bananas.md']\n",
      "----------\n",
      "['test-dir/blog/2024/phone.png', 'test-dir/blog/2024/horse.png', 'test-dir/blog/2024/skateboard.png', 'test-dir/blog/2024/discord.png', 'test-dir/blog/2023/rss.png', 'test-dir/blog/2023/stumbleUpon.png', 'test-dir/blog/2023/depression.png', 'test-dir/blog/2023/duck.png', 'test-dir/blog/2023/banana.png', 'test-dir/blog/2023/outside.png', 'test-dir/blog/2023/computer.png', 'test-dir/blog/2023/stress.png', 'test-dir/blog/2023/burnout.png', 'test-dir/blog/2023/hu.png', 'test-dir/blog/2023/stairs.png', 'test-dir/blog/2023/hobbies.png']\n",
      "----------\n",
      "16\n",
      "----------\n",
      "16\n"
     ]
    }
   ],
   "source": [
    "# Find md files in test-dir\n",
    "import os\n",
    "md_files = []\n",
    "images = []\n",
    "for root, dirs, files in os.walk('test-dir'):\n",
    "    for file in files:\n",
    "        if file.endswith('.md'):\n",
    "            md_files.append(os.path.join(root, file))\n",
    "        elif file.endswith('.png') :\n",
    "            images.append(os.path.join(root, file))\n",
    "\n",
    "print(md_files)\n",
    "print(\"-\"*10)\n",
    "print(images)\n",
    "print(\"-\"*10)\n",
    "print(len(md_files))\n",
    "print(\"-\"*10)\n",
    "print(len(images))"
   ]
  },
  {
   "cell_type": "code",
   "execution_count": 4,
   "metadata": {},
   "outputs": [
    {
     "name": "stdout",
     "output_type": "stream",
     "text": [
      "{'test-dir/2024/January/books.md': {'images': []}, 'test-dir/2024/February/hip.md': {'images': ['/images/blog/2024/skateboard.png']}, 'test-dir/2024/May/discord.md': {'images': ['/images/blog/2024/discord.png']}, 'test-dir/2024/April/internet.md': {'images': ['/images/blog/2024/phone.png']}, 'test-dir/2024/March/horses.md': {'images': ['/images/blog/2024/horse.png']}, 'test-dir/2023/December/depressed.md': {'images': ['/images/blog/2023/depression.png']}, 'test-dir/2023/December/charlmes.md': {'images': ['/images/blog/2023/duck.png']}, 'test-dir/2023/July/burnout.md': {'images': ['/images/blog/2023/burnout.png']}, 'test-dir/2023/July/onrss.md': {'images': ['/images/blog/2023/rss.png']}, 'test-dir/2023/July/dustydrawers.md': {'images': ['/images/blog/2023/hobbies.png', '/images/blog/2023/outside.png']}, 'test-dir/2023/August/stress.md': {'images': ['/images/blog/2023/stress.png']}, 'test-dir/2023/August/prank.md': {'images': ['/images/blog/2023/computer.png']}, 'test-dir/2023/February/stumbleupon.md': {'images': ['/images/blog/2023/stumbleUpon.png']}, 'test-dir/2023/June/alcoholism.md': {'images': ['/images/blog/2023/stairs.png']}, 'test-dir/2023/June/oldwebsites.md': {'images': ['/images/blog/2023/chao_w1.jpg', '/images/blog/2023/hu.png', '/images/blog/2023/chin.jpg']}, 'test-dir/2023/April/bananas.md': {'images': ['/images/blog/2023/banana.png']}}\n"
     ]
    }
   ],
   "source": [
    "# Now we need to add metadata to the md files and upload them to the bucket\n",
    "# The thumbnails can be compressed jpgs of the images\n",
    "# Oh we also need to link the images in the md files to the image files\n",
    "related_images = {}\n",
    "# Go through our markdown files - md file is the key and any images in the doc are the values\n",
    "for md_file in md_files:\n",
    "    with open(md_file, 'r') as f:\n",
    "        md = f.read()\n",
    "    images = []\n",
    "    for line in md.split('\\n'):\n",
    "        if '![' in line:\n",
    "            images.append(line.split('(')[1].split(')')[0])\n",
    "    related_images[md_file] = {\n",
    "        'images': images\n",
    "    }\n",
    "\n",
    "print(related_images)"
   ]
  },
  {
   "cell_type": "code",
   "execution_count": 7,
   "metadata": {},
   "outputs": [
    {
     "data": {
      "text/plain": [
       "{'test-dir/2024/January/books.md': {'date': '04-01-2024',\n",
       "  'title': 'Best Books of 2023',\n",
       "  'author': 'Ed',\n",
       "  'tags': ['Silly', 'Personal', 'Lifestyle'],\n",
       "  'type': 'blog',\n",
       "  'thumbnail': None,\n",
       "  'og_tags': {'og_title': 'Best Books of 2023',\n",
       "   'og_description': 'I started 2023 off strong with my reading, absolutely ploughing through books at a rate of one every other day, but this significantly slowed down in September ...',\n",
       "   'og_type': 'article'},\n",
       "  'images': []},\n",
       " 'test-dir/2024/February/hip.md': {'date': '01-02-2024',\n",
       "  'title': 'Why Do I Keep Injuring My Left Hip Specifically?',\n",
       "  'author': 'Ed',\n",
       "  'tags': ['Silly', 'Personal', 'Lifestyle'],\n",
       "  'type': 'blog',\n",
       "  'thumbnail': '/images/blog/2024/skateboard_thumbnail.jpg',\n",
       "  'og_tags': {'og_title': 'Why Do I Keep Injuring My Left Hip Specifically?',\n",
       "   'og_image': '/images/blog/2024/skateboard.png',\n",
       "   'og_description': \"When I was 30 years old I had a great idea. In spite of having never rollerskated in my life (apart from apparently when I was about 3 but I don't remember that...\",\n",
       "   'og_type': 'article'},\n",
       "  'images': ['/images/blog/2024/skateboard.png']},\n",
       " 'test-dir/2024/May/discord.md': {'date': '06-05-2024',\n",
       "  'title': 'Discord Hiatus',\n",
       "  'author': 'Ed',\n",
       "  'tags': ['Silly', 'Personal', 'Lifestyle'],\n",
       "  'type': 'blog',\n",
       "  'thumbnail': '/images/blog/2024/discord_thumbnail.jpg',\n",
       "  'og_tags': {'og_title': 'Discord Hiatus',\n",
       "   'og_image': '/images/blog/2024/discord.png',\n",
       "   'og_description': 'Whilst in a mentally terrible place, I pressed the delete account button on Discord. I was going to just ghost out of there. Of course, you get a grace period o...',\n",
       "   'og_type': 'article'},\n",
       "  'images': ['/images/blog/2024/discord.png']},\n",
       " 'test-dir/2024/April/internet.md': {'date': '23-04-2024',\n",
       "  'title': 'Digital Despair',\n",
       "  'author': 'Ed',\n",
       "  'tags': ['Silly', 'Personal', 'Lifestyle'],\n",
       "  'type': 'blog',\n",
       "  'thumbnail': '/images/blog/2024/phone_thumbnail.jpg',\n",
       "  'og_tags': {'og_title': 'Digital Despair',\n",
       "   'og_image': '/images/blog/2024/phone.png',\n",
       "   'og_description': 'In my time on Earth, I have formed and broken many addictions. There is one, however, that remains persistent and seems to become harder and harder to shake off...',\n",
       "   'og_type': 'article'},\n",
       "  'images': ['/images/blog/2024/phone.png']},\n",
       " 'test-dir/2024/March/horses.md': {'date': '14-03-2024',\n",
       "  'title': 'Can You Make Money From Horse Racing?',\n",
       "  'author': 'Ed',\n",
       "  'tags': ['Silly', 'Personal', 'Lifestyle'],\n",
       "  'type': 'blog',\n",
       "  'thumbnail': '/images/blog/2024/horse_thumbnail.jpg',\n",
       "  'og_tags': {'og_title': 'Can You Make Money From Horse Racing?',\n",
       "   'og_image': '/images/blog/2024/horse.png',\n",
       "   'og_description': 'Short answer: maybe. But not much. I got into horse racing after looking up ways to make money from gambling. Obviously a silly thing to look up, but as it happ...',\n",
       "   'og_type': 'article'},\n",
       "  'images': ['/images/blog/2024/horse.png']},\n",
       " 'test-dir/2023/December/depressed.md': {'date': '17-12-2023',\n",
       "  'title': \"I'm Depressed\",\n",
       "  'author': 'Ed',\n",
       "  'tags': ['Silly', 'Personal', 'Lifestyle'],\n",
       "  'type': 'blog',\n",
       "  'thumbnail': '/images/blog/2023/depression_thumbnail.jpg',\n",
       "  'og_tags': {'og_title': \"I'm Depressed\",\n",
       "   'og_image': '/images/blog/2023/depression.png',\n",
       "   'og_description': 'Long pointless rambling post incoming. A few weeks ago I had what you might call a ',\n",
       "   'og_type': 'article'},\n",
       "  'images': ['/images/blog/2023/depression.png']},\n",
       " 'test-dir/2023/December/charlmes.md': {'date': '23-12-2023',\n",
       "  'title': 'On Charlmes',\n",
       "  'author': 'Ed',\n",
       "  'tags': ['Silly', 'Personal', 'Lifestyle'],\n",
       "  'type': 'blog',\n",
       "  'thumbnail': '/images/blog/2023/duck_thumbnail.jpg',\n",
       "  'og_tags': {'og_title': 'On Charlmes',\n",
       "   'og_image': '/images/blog/2023/duck.png',\n",
       "   'og_description': 'Long ago, during the COVID pandemic, I had quite a productive time making games, churning out some of my favourite games: Silent Bill and Remember Mary. It was ...',\n",
       "   'og_type': 'article'},\n",
       "  'images': ['/images/blog/2023/duck.png']},\n",
       " 'test-dir/2023/July/burnout.md': {'date': '23-07-2023',\n",
       "  'title': 'On Bootcamp Disillusionment and Burnout',\n",
       "  'author': 'Ed',\n",
       "  'tags': ['Silly', 'Personal', 'Lifestyle'],\n",
       "  'type': 'blog',\n",
       "  'thumbnail': '/images/blog/2023/burnout_thumbnail.jpg',\n",
       "  'og_tags': {'og_title': 'On Bootcamp Disillusionment and Burnout',\n",
       "   'og_image': '/images/blog/2023/burnout.png',\n",
       "   'og_description': 'I took a major decision in my life this year and decided to join a part time Data Science bootcamp to pivot my career in a completely new direction. I am curren...',\n",
       "   'og_type': 'article'},\n",
       "  'images': ['/images/blog/2023/burnout.png']},\n",
       " 'test-dir/2023/July/onrss.md': {'date': '18-07-2023',\n",
       "  'title': 'On the Wonders of RSS',\n",
       "  'author': 'Ed',\n",
       "  'tags': ['Silly', 'Personal', 'Lifestyle'],\n",
       "  'type': 'blog',\n",
       "  'thumbnail': '/images/blog/2023/rss_thumbnail.jpg',\n",
       "  'og_tags': {'og_title': 'On the Wonders of RSS',\n",
       "   'og_image': '/images/blog/2023/rss.png',\n",
       "   'og_description': 'I certainly spend more time than the average person complaining about how much I dislike the modern internet. And yet, here I am, still using social media, stil...',\n",
       "   'og_type': 'article'},\n",
       "  'images': ['/images/blog/2023/rss.png']},\n",
       " 'test-dir/2023/July/dustydrawers.md': {'date': '29-07-2023',\n",
       "  'title': 'On the Dusty Drawers Full of Abandoned Hobbies',\n",
       "  'author': 'Ed',\n",
       "  'tags': ['Silly', 'Personal', 'Lifestyle'],\n",
       "  'type': 'blog',\n",
       "  'thumbnail': '/images/blog/2023/hobbies_thumbnail.jpg',\n",
       "  'og_tags': {'og_title': 'On the Dusty Drawers Full of Abandoned Hobbies',\n",
       "   'og_image': '/images/blog/2023/outside.png',\n",
       "   'og_description': \"Raspberry Pis are pretty cool aren't they? An all in one computer with a GPIO header to allow easy integration with circuitry. A great way to learn programming ...\",\n",
       "   'og_type': 'article'},\n",
       "  'images': ['/images/blog/2023/hobbies.png',\n",
       "   '/images/blog/2023/outside.png']},\n",
       " 'test-dir/2023/August/stress.md': {'date': '08-08-2023',\n",
       "  'title': 'In Which I Choke Under Extreme Pressure',\n",
       "  'author': 'Ed',\n",
       "  'tags': ['Silly', 'Personal', 'Lifestyle'],\n",
       "  'type': 'blog',\n",
       "  'thumbnail': '/images/blog/2023/stress_thumbnail.jpg',\n",
       "  'og_tags': {'og_title': 'In Which I Choke Under Extreme Pressure',\n",
       "   'og_image': '/images/blog/2023/stress.png',\n",
       "   'og_description': \"If you have spent any time on this website, you may know that I quite like coding. How much do I like it? Well I'm soon going to hit the top 0.5% of users on Co...\",\n",
       "   'og_type': 'article'},\n",
       "  'images': ['/images/blog/2023/stress.png']},\n",
       " 'test-dir/2023/August/prank.md': {'date': '22-08-2023',\n",
       "  'title': 'In Which I Prank My Mum and Then Feel Forever Guilty',\n",
       "  'author': 'Ed',\n",
       "  'tags': ['Silly', 'Personal', 'Lifestyle'],\n",
       "  'type': 'blog',\n",
       "  'thumbnail': '/images/blog/2023/computer_thumbnail.jpg',\n",
       "  'og_tags': {'og_title': 'In Which I Prank My Mum and Then Feel Forever Guilty',\n",
       "   'og_image': '/images/blog/2023/computer.png',\n",
       "   'og_description': 'Something most former teenagers will be familiar with is falling out with your parents for some trivial reason. Once you graduate to adulthood, you realise that...',\n",
       "   'og_type': 'article'},\n",
       "  'images': ['/images/blog/2023/computer.png']},\n",
       " 'test-dir/2023/February/stumbleupon.md': {'date': '22-02-2023',\n",
       "  'title': 'In Which I Reminisce About The Early Days Of The Internet',\n",
       "  'author': 'Ed',\n",
       "  'tags': ['Silly', 'Personal', 'Lifestyle'],\n",
       "  'type': 'blog',\n",
       "  'thumbnail': '/images/blog/2023/stumbleUpon_thumbnail.jpg',\n",
       "  'og_tags': {'og_title': 'In Which I Reminisce About The Early Days Of The Internet',\n",
       "   'og_image': '/images/blog/2023/stumbleUpon.png',\n",
       "   'og_description': 'Remember the internet? Back when everything was less centralised, and things looked worse. I spend most of my time on Discord and Reddit now, never leaving much...',\n",
       "   'og_type': 'article'},\n",
       "  'images': ['/images/blog/2023/stumbleUpon.png']},\n",
       " 'test-dir/2023/June/alcoholism.md': {'date': '05-06-2023',\n",
       "  'title': 'In Which I Discuss My Alcoholism',\n",
       "  'author': 'Ed',\n",
       "  'tags': ['Silly', 'Personal', 'Lifestyle'],\n",
       "  'type': 'blog',\n",
       "  'thumbnail': '/images/blog/2023/stairs_thumbnail.jpg',\n",
       "  'og_tags': {'og_title': 'In Which I Discuss My Alcoholism',\n",
       "   'og_image': '/images/blog/2023/stairs.png',\n",
       "   'og_description': 'Often when you think of alcoholics, you think of the people who are drinking in Wetherspoons (a cheap British pub chain for the uninitiated) at 7am. You think o...',\n",
       "   'og_type': 'article'},\n",
       "  'images': ['/images/blog/2023/stairs.png']},\n",
       " 'test-dir/2023/June/oldwebsites.md': {'date': '20-06-2023',\n",
       "  'title': 'In Which I Discuss Multiple Failed Attempts At Making Websites',\n",
       "  'author': 'Ed',\n",
       "  'tags': ['Silly', 'Personal', 'Lifestyle'],\n",
       "  'type': 'blog',\n",
       "  'thumbnail': '/images/blog/2023/chao_w1.jpg',\n",
       "  'og_tags': {'og_title': 'In Which I Discuss Multiple Failed Attempts At Making Websites',\n",
       "   'og_image': '/images/blog/2023/chin.jpg',\n",
       "   'og_description': \"This website isn't my first rodeo. Or my second. Or my third. I think it's probably my 6th or so? So let's talk about some internet history that surely nobody w...\",\n",
       "   'og_type': 'article'},\n",
       "  'images': ['/images/blog/2023/chao_w1.jpg',\n",
       "   '/images/blog/2023/hu.png',\n",
       "   '/images/blog/2023/chin.jpg']},\n",
       " 'test-dir/2023/April/bananas.md': {'date': '17-04-2023',\n",
       "  'title': \"In Which I Break Free From My Sister's Banana Boycott\",\n",
       "  'author': 'Ed',\n",
       "  'tags': ['Silly', 'Personal', 'Lifestyle'],\n",
       "  'type': 'blog',\n",
       "  'thumbnail': '/images/blog/2023/banana_thumbnail.jpg',\n",
       "  'og_tags': {'og_title': \"In Which I Break Free From My Sister's Banana Boycott\",\n",
       "   'og_image': '/images/blog/2023/banana.png',\n",
       "   'og_description': 'I was the younger sibling in my household, thus, I had the tendancy to copy what my older sister did. I used to eat bananas, until one day, she said she hated b...',\n",
       "   'og_type': 'article'},\n",
       "  'images': ['/images/blog/2023/banana.png']}}"
      ]
     },
     "execution_count": 7,
     "metadata": {},
     "output_type": "execute_result"
    }
   ],
   "source": [
    "from bs4 import BeautifulSoup\n",
    "metadata = {}\n",
    "# Cool now we can get the date these were published and the titles\n",
    "for md_file in md_files:\n",
    "    with open(md_file, 'r') as f:\n",
    "        md = f.read()\n",
    "    # First line is date, rm the # and strip\n",
    "    date = md.split('\\n')[0].strip('#').strip().replace(\"/\", \"-\")\n",
    "    # Second line is title, rm the # and strip\n",
    "    title = md.split('\\n')[1].strip('#').strip()\n",
    "\n",
    "    # We can open the corresponding html file to get the og tags\n",
    "    html_file = md_file.replace('.md', '.html')\n",
    "    with open(html_file, 'r') as f:\n",
    "        html = f.read()\n",
    "\n",
    "    # Use bs\n",
    "    soup = BeautifulSoup(html, 'html.parser')\n",
    "    # Get og tags\n",
    "    og_tags = {}\n",
    "    for tag in soup.find_all('meta'):\n",
    "        if tag.get('property') and tag.get('content'):\n",
    "            og_tags[tag.get('property').replace(\":\", \"_\")] = tag.get('content')\n",
    "\n",
    "    # Author is always Ed\n",
    "    author = 'Ed'\n",
    "\n",
    "    # We need some tags\n",
    "    # We can set some default tags since this is my peronsal blog about silly things\n",
    "    tags = ['Silly', 'Personal', 'Lifestyle']\n",
    "\n",
    "    # Type is blog\n",
    "    _type = 'blog'\n",
    "\n",
    "    # Now we just need a thumbnail which we'll copy the first image name, add _thumbnail, compress to 64x64 and make a .jpg\n",
    "    try:\n",
    "        thumbnail = related_images[md_file]['images'][0].replace('.png', '_thumbnail.jpg')\n",
    "    except:\n",
    "        thumbnail = None\n",
    "\n",
    "    # Now set all this data\n",
    "    data = {\n",
    "        'date': date,\n",
    "        'title': title,\n",
    "        'author': author,\n",
    "        'tags': tags,\n",
    "        'type': _type,\n",
    "        'thumbnail': thumbnail,\n",
    "        'og_tags': og_tags\n",
    "    }\n",
    "\n",
    "    metadata[md_file] = data\n",
    "    metadata[md_file]['images'] = related_images[md_file]['images']\n",
    "\n",
    "metadata"
   ]
  },
  {
   "cell_type": "code",
   "execution_count": 14,
   "metadata": {},
   "outputs": [],
   "source": [
    "# Now we can insert this as metadata into our blog markdown and move them up to the root directory and also strip all the path from the image paths except filename\n",
    "# Also images doesn't need to be included in the metadata it's just so we can track what goes in the bucket\n",
    "# All our md files need the image paths setting to /assets/images/imagename.png\n",
    "# With that in mind let's go ahead and do it\n",
    "for md_file in md_files:\n",
    "    with open(md_file, 'r') as f:\n",
    "        md = f.read()\n",
    "\n",
    "    # Remove the first two lines as these are title/date which we'll render from the metadata\n",
    "    md = \"\\n\".join(md.split('\\n')[2:])\n",
    "\n",
    "    # Now strip any excess lines\n",
    "    md = md.strip()\n",
    "\n",
    "    # Replace the image paths\n",
    "    for image in metadata[md_file]['images']:\n",
    "        md = md.replace(image, f\"/assets/images/{image.split('/')[-1]}\")\n",
    "\n",
    "    # Get the metadata\n",
    "    data = metadata[md_file]\n",
    "\n",
    "    # Now we need to update the md file with the metadata\n",
    "    new_md = f\"\"\"---\n",
    "date: {data['date']}\n",
    "title: {data['title']}\n",
    "author: {data['author']}\n",
    "tags: {data['tags']}\n",
    "type: {data['type']}\n",
    "thumbnail: /assets/images/{data['thumbnail'].split('/')[-1] if data['thumbnail'] else ''}\n",
    "og_title: {data['og_tags'].get('og_title', '')}\n",
    "og_description: {data['og_tags'].get('og_description', '')}\n",
    "og_image: {data['og_tags'].get('og_image', '')}\n",
    "og_type: {data['og_tags'].get('og_type', '')}\n",
    "---\n",
    "{md}\n",
    "\"\"\"\n",
    "\n",
    "    if not os.path.exists('test-dir/blogs'):\n",
    "        os.makedirs('test-dir/blogs')\n",
    "\n",
    "    # Write this new md to test-dir/blogs\n",
    "    with open(f\"test-dir/blogs/{md_file.split('/')[-1]}\", 'w') as f:\n",
    "        f.write(new_md)\n",
    "\n",
    "# Now let's copy all our images to test-dir/images\n",
    "import shutil\n",
    "if not os.path.exists('test-dir/images'):\n",
    "    os.makedirs('test-dir/images')\n",
    "\n",
    "for image in images:\n",
    "    shutil.copy(os.path.join('test-dir', *image.split('/')[2:]), f\"test-dir/images/{image.split('/')[-1]}\")"
   ]
  },
  {
   "cell_type": "code",
   "execution_count": 16,
   "metadata": {},
   "outputs": [],
   "source": [
    "images = []\n",
    "for root, dirs, files in os.walk('test-dir'):\n",
    "    for file in files:\n",
    "        if file.endswith('.md'):\n",
    "            md_files.append(os.path.join(root, file))\n",
    "        elif file.endswith('.png') :\n",
    "            images.append(os.path.join(root, file))"
   ]
  },
  {
   "cell_type": "code",
   "execution_count": 19,
   "metadata": {},
   "outputs": [
    {
     "name": "stdout",
     "output_type": "stream",
     "text": [
      "'test-dir/images/banana.png' and 'test-dir/images/banana.png' are the same file\n"
     ]
    }
   ],
   "source": [
    "\n",
    "for image in images:\n",
    "    try:\n",
    "        shutil.copy(os.path.join('test-dir', *image.split('/')[1:]), f\"test-dir/images/{image.split('/')[-1]}\")\n",
    "    except Exception as e:\n",
    "        print(e)\n"
   ]
  },
  {
   "cell_type": "code",
   "execution_count": 20,
   "metadata": {},
   "outputs": [],
   "source": [
    "# Date format is incorrect it goes dd-mm-yyyy instead of yyyy-mm-dd\n",
    "# Let's fix that\n",
    "for root, dirs, files in os.walk('test-dir/blogs'):\n",
    "    for file in files:\n",
    "        with open(os.path.join(root, file), 'r') as f:\n",
    "            md = f.read()\n",
    "        date = md.split('date: ')[1].split('\\n')[0]\n",
    "        date = date.split('-')\n",
    "        date = f\"{date[2]}-{date[1]}-{date[0]}\"\n",
    "        md = md.replace(md.split('date: ')[1].split('\\n')[0], date)\n",
    "        with open(os.path.join(root, file), 'w') as f:\n",
    "            f.write(md)\n"
   ]
  },
  {
   "cell_type": "code",
   "execution_count": 21,
   "metadata": {},
   "outputs": [
    {
     "data": {
      "text/plain": [
       "['phone.png',\n",
       " 'horse.png',\n",
       " 'rss.png',\n",
       " 'stumbleUpon.png',\n",
       " 'depression.png',\n",
       " 'duck.png',\n",
       " 'banana.png',\n",
       " 'outside.png',\n",
       " 'computer.png',\n",
       " 'stress.png',\n",
       " 'burnout.png',\n",
       " 'hu.png',\n",
       " 'skateboard.png',\n",
       " 'stairs.png',\n",
       " 'hobbies.png',\n",
       " 'discord.png']"
      ]
     },
     "execution_count": 21,
     "metadata": {},
     "output_type": "execute_result"
    }
   ],
   "source": [
    "# Oh let's use PIL to make our thumbnail images\n",
    "images = os.listdir('test-dir/images')\n",
    "images"
   ]
  },
  {
   "cell_type": "code",
   "execution_count": 27,
   "metadata": {},
   "outputs": [],
   "source": [
    "from PIL import Image\n",
    "for image in images:\n",
    "    img = Image.open(f\"test-dir/images/{image}\")\n",
    "    img.thumbnail((256, 256))\n",
    "    img = img.convert(\"RGB\")\n",
    "    img.save(f\"test-dir/images/{image.replace('.png', '_thumbnail.jpg')}\")"
   ]
  },
  {
   "cell_type": "code",
   "execution_count": 39,
   "metadata": {},
   "outputs": [],
   "source": [
    "import re\n",
    "\n",
    "pattern = r'(og_image: )(/images/blog/\\d{4}/)'\n",
    "\n",
    "# Our md files have incorrect image paths for og_image\n",
    "for md_file in os.listdir(os.path.join('test-dir', 'blogs')):\n",
    "    with open(os.path.join('test-dir', 'blogs', md_file), 'r') as f:\n",
    "        md = f.read()\n",
    "\n",
    "    # Regex replace the capture group with /assets/images/\n",
    "    md = re.sub(pattern, r'\\1/assets/images/', md)\n",
    "\n",
    "    # Write it back\n",
    "    with open(os.path.join('test-dir', 'blogs', md_file), 'w') as f:\n",
    "        f.write(md)\n"
   ]
  },
  {
   "cell_type": "code",
   "execution_count": 42,
   "metadata": {},
   "outputs": [
    {
     "data": {
      "text/plain": [
       "{'2024-07-06 17:14:38': {'location': 'blogs/test-blog.md'}}"
      ]
     },
     "execution_count": 42,
     "metadata": {},
     "output_type": "execute_result"
    }
   ],
   "source": [
    "# Cool now we need to write our firestore log\n",
    "feed = db.collection('feed').document('content-log')\n",
    "data = feed.get().to_dict()\n",
    "data"
   ]
  },
  {
   "cell_type": "code",
   "execution_count": 44,
   "metadata": {},
   "outputs": [
    {
     "name": "stdout",
     "output_type": "stream",
     "text": [
      "{'2023-12-17 16:08:05': {'location': 'blogs/depressed.md'}, '2023-12-23 11:03:45': {'location': 'blogs/charlmes.md'}, '2023-07-23 10:22:07': {'location': 'blogs/burnout.md'}, '2023-07-18 08:52:17': {'location': 'blogs/onrss.md'}, '2023-07-29 09:05:47': {'location': 'blogs/dustydrawers.md'}, '2023-08-08 12:02:16': {'location': 'blogs/stress.md'}, '2023-08-22 15:15:32': {'location': 'blogs/prank.md'}, '2023-02-22 00:00:00': {'location': 'blogs/stumbleupon.md'}, '2023-06-05 00:00:00': {'location': 'blogs/alcoholism.md'}, '2023-06-20 14:28:27': {'location': 'blogs/oldwebsites.md'}, '2023-04-17 00:00:00': {'location': 'blogs/bananas.md'}, '2024-01-04 11:35:56': {'location': 'blogs/books.md'}, '2024-02-01 17:08:24': {'location': 'blogs/hip.md'}, '2024-05-06 09:38:07': {'location': 'blogs/discord.md'}, '2024-04-23 08:17:04': {'location': 'blogs/internet.md'}, '2024-03-14 00:00:00': {'location': 'blogs/horses.md'}}\n"
     ]
    }
   ],
   "source": [
    "from datetime import datetime as dt\n",
    "from datetime import timedelta\n",
    "\n",
    "data = {}\n",
    "# So we will overwrite this with all our blogs - we do actually have a last edit date in the original file metadata we can use\n",
    "# But if it is prior to the actual date we will use the actual date at midnight\n",
    "# So let's go ahead and do that\n",
    "# First go through and get datetime objects for all the blogs\n",
    "for year in ['2023', '2024']:\n",
    "    for root, dirs, files in os.walk(os.path.join('test-dir', year)):\n",
    "        for file in files:\n",
    "            if file.endswith('.md'):\n",
    "                with open(os.path.join(root, file), 'r') as f:\n",
    "                    md = f.read()\n",
    "                actual_date = md.split('\\n')[0].strip('#').strip().replace(\"/\", \"-\")\n",
    "                # Parse the actual date\n",
    "                actual_date = dt.strptime(actual_date, \"%d-%m-%Y\")\n",
    "                # Set time to midnight\n",
    "                actual_date = actual_date.replace(hour=0, minute=0, second=0, microsecond=0)\n",
    "\n",
    "                # Now get the file edit datetime\n",
    "                edited_time = dt.fromtimestamp(os.path.getmtime(os.path.join(root, file)))\n",
    "\n",
    "                # Make sure that edited_time isn't more than 1 day ahead of actual_date\n",
    "                if edited_time <= actual_date + timedelta(days=1):\n",
    "                    actual_date = edited_time\n",
    "\n",
    "                data[actual_date.strftime(\"%Y-%m-%d %H:%M:%S\")] = {\n",
    "                    'location': os.path.join('blogs', file),\n",
    "                }\n",
    "\n",
    "print(data)"
   ]
  },
  {
   "cell_type": "code",
   "execution_count": 45,
   "metadata": {},
   "outputs": [
    {
     "data": {
      "text/plain": [
       "{'2024-05-06 09:38:07': {'location': 'blogs/discord.md'},\n",
       " '2024-04-23 08:17:04': {'location': 'blogs/internet.md'},\n",
       " '2024-03-14 00:00:00': {'location': 'blogs/horses.md'},\n",
       " '2024-02-01 17:08:24': {'location': 'blogs/hip.md'},\n",
       " '2024-01-04 11:35:56': {'location': 'blogs/books.md'},\n",
       " '2023-12-23 11:03:45': {'location': 'blogs/charlmes.md'},\n",
       " '2023-12-17 16:08:05': {'location': 'blogs/depressed.md'},\n",
       " '2023-08-22 15:15:32': {'location': 'blogs/prank.md'},\n",
       " '2023-08-08 12:02:16': {'location': 'blogs/stress.md'},\n",
       " '2023-07-29 09:05:47': {'location': 'blogs/dustydrawers.md'},\n",
       " '2023-07-23 10:22:07': {'location': 'blogs/burnout.md'},\n",
       " '2023-07-18 08:52:17': {'location': 'blogs/onrss.md'},\n",
       " '2023-06-20 14:28:27': {'location': 'blogs/oldwebsites.md'},\n",
       " '2023-06-05 00:00:00': {'location': 'blogs/alcoholism.md'},\n",
       " '2023-04-17 00:00:00': {'location': 'blogs/bananas.md'},\n",
       " '2023-02-22 00:00:00': {'location': 'blogs/stumbleupon.md'}}"
      ]
     },
     "execution_count": 45,
     "metadata": {},
     "output_type": "execute_result"
    }
   ],
   "source": [
    "# Banging job now let's just order it such that the most recent is first\n",
    "data = dict(sorted(data.items(), key=lambda item: item[0], reverse=True))\n",
    "data"
   ]
  },
  {
   "cell_type": "code",
   "execution_count": 46,
   "metadata": {},
   "outputs": [
    {
     "data": {
      "text/plain": [
       "update_time {\n",
       "  seconds: 1720885488\n",
       "  nanos: 98901000\n",
       "}"
      ]
     },
     "execution_count": 46,
     "metadata": {},
     "output_type": "execute_result"
    }
   ],
   "source": [
    "# Slam it into firestore\n",
    "feed.set(data)"
   ]
  },
  {
   "cell_type": "code",
   "execution_count": 51,
   "metadata": {},
   "outputs": [],
   "source": [
    "# Go through and copy the og_description to the description field\n",
    "for md_file in os.listdir(os.path.join('test-dir', 'blogs')):\n",
    "    with open(os.path.join('test-dir', 'blogs', md_file), 'r') as f:\n",
    "        md = f.read()\n",
    "\n",
    "    # Get the og_description\n",
    "    og_description = md.split('og_description: ')[1].split('\\n')[0]\n",
    "\n",
    "    # Add a description field under title\n",
    "    title = md.split('title: ')[1].split('\\n')[0]\n",
    "    title_with_description = f\"{title}\\ndescription: {og_description}\"\n",
    "    md = md.replace(title, title_with_description)\n",
    "\n",
    "    # Write it back\n",
    "    with open(os.path.join('test-dir', 'blogs', md_file), 'w') as f:\n",
    "        f.write(md)"
   ]
  },
  {
   "cell_type": "code",
   "execution_count": 53,
   "metadata": {},
   "outputs": [],
   "source": [
    "# Rename our music files to add underscores in place of spaces\n",
    "for root, dirs, files in os.walk('test-dir/music'):\n",
    "    for file in files:\n",
    "        if ' ' in file:\n",
    "            os.rename(os.path.join(root, file), os.path.join(root, file.replace(' ', '_')))\n",
    "        if '[' in file or ']' in file:\n",
    "            os.rename(os.path.join(root, file), os.path.join(root, file.replace('[', '').replace(']', '')))"
   ]
  },
  {
   "cell_type": "code",
   "execution_count": 54,
   "metadata": {},
   "outputs": [],
   "source": [
    "# Let's write a markdown file for our Planet Ed Album\n",
    "metadata = {\n",
    "    'date': '2005-01-01',\n",
    "    'title': 'Planet Ed',\n",
    "    'description': 'My first album, Planet Ed, was released in 2005. Nobody really cared. I was 12 going on 13.',\n",
    "    'author': 'Ed',\n",
    "    'tags': ['Music', 'Planet Ed'],\n",
    "    'type': 'music',\n",
    "    'thumbnail': '/assets/images/planet_ed.jpg',\n",
    "    'og_title': 'Planet Ed',\n",
    "    'og_description': 'My first album, Planet Ed, was released in 2005. Nobody really cared. I was 12 going on 13.',\n",
    "    'og_image': '/assets/images/planet_ed.jpg',\n",
    "    'og_type': 'music'\n",
    "}\n",
    "\n",
    "metadata_md = f\"\"\"---\n",
    "date: {metadata['date']}\n",
    "title: {metadata['title']}\n",
    "description: {metadata['description']}\n",
    "author: {metadata['author']}\n",
    "tags: {metadata['tags']}\n",
    "type: {metadata['type']}\n",
    "thumbnail: {metadata['thumbnail']}\n",
    "og_title: {metadata['og_title']}\n",
    "og_description: {metadata['og_description']}\n",
    "og_image: {metadata['og_image']}\n",
    "og_type: {metadata['og_type']}\n",
    "---\n",
    "\"\"\"\n",
    "\n",
    "# Now the actual content\n",
    "content = \"\"\"\n",
    "---\n",
    "When I was a young 12 year old, I was playing around with Gamemaker.\n",
    "\n",
    "I took copyright law very seriously, and decided I must make my own music for my games otherwise I would be a criminal.\n",
    "\n",
    "Thus started my music career, under the moniker Planet Ed (at some point stylised instead as Planet 'ed, a contraction of Planet Head). I didn't know anything about music theory. I had a light background in jazz piano, but I generally couldn't be bothered to learn anything properly.\n",
    "\n",
    "Destroyed World was the first song I made, I was playing Jak and Daxter at the time so I was inspired by the music in that game. It is unexpectedly a very good piece of music.\n",
    "\n",
    "The rest of the music may seem weird and disjointed, but I was 12 and to reiterate, I didn't know anything about music theory.\n",
    "\n",
    "Armed with a copy of Sibelius 3 and an EMU Proteus 2000, I set out to make my first album. I was very proud of it at the time. Now I just look back at it with nostalgia.\n",
    "\n",
    "I hope you enjoy it.\n",
    "\n",
    "PS. The recording is terrible because I didn't know how to record properly. I didn't know what a DAW was.\n",
    "---\n",
    "title: Blips\n",
    "file: /assets/music/01_Blips.mp3\n",
    "title: Heaven\n",
    "file: /assets/music/02_Heaven.mp3\n",
    "title: Drum Pie and Peas\n",
    "file: /assets/music/03_Drum_Pie_and_Peas.mp3\n",
    "title: Folk Thing\n",
    "file: /assets/music/04_Folk_Thing.mp3\n",
    "title: Power Plant [Power Failure Remix]\n",
    "file: /assets/music/05_Power_Plant_Power_Failure_Remix.mp3\n",
    "title: Heavy Machinery\n",
    "file: /assets/music/06_Heavy_Machinery.mp3\n",
    "title: Aliens\n",
    "file: /assets/music/07_Aliens.mp3\n",
    "title: Epic Song\n",
    "file: /assets/music/08_Epic_Song.mp3\n",
    "title: Destroyed World\n",
    "file: /assets/music/09_Destroyed_World.mp3\n",
    "title: The Banjo Experience\n",
    "file: /assets/music/10_The_Banjo_Experience.mp3\n",
    "title: Taking a Ride\n",
    "file: /assets/music/11_Taking_a_Ride.mp3\n",
    "title: Power Plant\n",
    "file: /assets/music/12_Power_Plant.mp3\n",
    "\"\"\"\n",
    "\n",
    "with open('test-dir/planet_ed.md', 'w') as f:\n",
    "    f.write(metadata_md + content)"
   ]
  },
  {
   "cell_type": "code",
   "execution_count": 58,
   "metadata": {},
   "outputs": [],
   "source": [
    "# Alright we gonna add collection metadata to our markdown files\n",
    "for f in os.listdir(os.path.join('test-dir', 'blogs')):\n",
    "    with open(os.path.join('test-dir', 'blogs', f), 'r') as file:\n",
    "        md = file.read()\n",
    "\n",
    "    # Add collection metadata\n",
    "    collection_metadata = \"collection: Ed's Blog\"\n",
    "    metadata = md.split('---')[1]\n",
    "    md = md.replace(metadata, f\"{metadata}{collection_metadata}\\n\")\n",
    "    # Write it back\n",
    "    with open(os.path.join('test-dir', 'blogs', f), 'w') as file:\n",
    "        file.write(md)\n",
    "\n",
    "# Now same in the music directory\n",
    "with open('test-dir/planet_ed.md', 'r') as file:\n",
    "    md = file.read()\n",
    "metadata = md.split('---')[1]\n",
    "collection_metadata = \"collection: Ed's Music\"\n",
    "# Add collection metadata\n",
    "md = md.replace(metadata, f\"{metadata}{collection_metadata}\\n\")\n",
    "# Write it back\n",
    "with open('test-dir/planet_ed.md', 'w') as file:\n",
    "    file.write(md)"
   ]
  },
  {
   "cell_type": "code",
   "execution_count": 60,
   "metadata": {},
   "outputs": [
    {
     "data": {
      "text/plain": [
       "{'2023-02-22 00:00:00': {'location': 'blogs/stumbleupon.md'},\n",
       " '2024-03-14 00:00:00': {'location': 'blogs/horses.md'},\n",
       " '2023-12-23 11:03:45': {'location': 'blogs/charlmes.md'},\n",
       " '2024-04-23 08:17:04': {'location': 'blogs/internet.md'},\n",
       " '2023-06-20 14:28:27': {'location': 'blogs/oldwebsites.md'},\n",
       " '2024-02-01 17:08:24': {'location': 'blogs/hip.md'},\n",
       " '2023-12-17 16:08:05': {'location': 'blogs/depressed.md'},\n",
       " '2023-04-17 00:00:00': {'location': 'blogs/bananas.md'},\n",
       " '2024-01-04 11:35:56': {'location': 'blogs/books.md'},\n",
       " '2023-07-29 09:05:47': {'location': 'blogs/dustydrawers.md'},\n",
       " '2023-07-18 08:52:17': {'location': 'blogs/onrss.md'},\n",
       " '2023-08-22 15:15:32': {'location': 'blogs/prank.md'},\n",
       " '2023-08-08 12:02:16': {'location': 'blogs/stress.md'},\n",
       " '2023-06-05 00:00:00': {'location': 'blogs/alcoholism.md'},\n",
       " '2023-07-23 10:22:07': {'location': 'blogs/burnout.md'},\n",
       " '2024-05-06 09:38:07': {'location': 'blogs/discord.md'}}"
      ]
     },
     "execution_count": 60,
     "metadata": {},
     "output_type": "execute_result"
    }
   ],
   "source": [
    "# Now let's get our feed data and create a list of all our blog posts in reverse chronological order\n",
    "# We can use this to write to our new firestore collection\n",
    "feed = db.collection('feed').document('content-log').get().to_dict()\n",
    "feed"
   ]
  },
  {
   "cell_type": "code",
   "execution_count": 61,
   "metadata": {},
   "outputs": [
    {
     "data": {
      "text/plain": [
       "['blogs/stumbleupon.md',\n",
       " 'blogs/horses.md',\n",
       " 'blogs/charlmes.md',\n",
       " 'blogs/internet.md',\n",
       " 'blogs/oldwebsites.md',\n",
       " 'blogs/hip.md',\n",
       " 'blogs/depressed.md',\n",
       " 'blogs/bananas.md',\n",
       " 'blogs/books.md',\n",
       " 'blogs/dustydrawers.md',\n",
       " 'blogs/onrss.md',\n",
       " 'blogs/prank.md',\n",
       " 'blogs/stress.md',\n",
       " 'blogs/alcoholism.md',\n",
       " 'blogs/burnout.md',\n",
       " 'blogs/discord.md']"
      ]
     },
     "execution_count": 61,
     "metadata": {},
     "output_type": "execute_result"
    }
   ],
   "source": [
    "new_doc = db.collection('collections').document('eds_blog')\n",
    "# Let's write a list from our feed data\n",
    "data = [\n",
    "    v['location'] for v in feed.values()\n",
    "]\n",
    "data"
   ]
  },
  {
   "cell_type": "code",
   "execution_count": 62,
   "metadata": {},
   "outputs": [
    {
     "data": {
      "text/plain": [
       "update_time {\n",
       "  seconds: 1720953389\n",
       "  nanos: 391888000\n",
       "}"
      ]
     },
     "execution_count": 62,
     "metadata": {},
     "output_type": "execute_result"
    }
   ],
   "source": [
    "# Cool now we can write this to our new collection\n",
    "new_doc.set({'content': data})"
   ]
  },
  {
   "cell_type": "code",
   "execution_count": null,
   "metadata": {},
   "outputs": [],
   "source": []
  }
 ],
 "metadata": {
  "kernelspec": {
   "display_name": "homepage",
   "language": "python",
   "name": "python3"
  },
  "language_info": {
   "codemirror_mode": {
    "name": "ipython",
    "version": 3
   },
   "file_extension": ".py",
   "mimetype": "text/x-python",
   "name": "python",
   "nbconvert_exporter": "python",
   "pygments_lexer": "ipython3",
   "version": "3.10.6"
  }
 },
 "nbformat": 4,
 "nbformat_minor": 2
}
