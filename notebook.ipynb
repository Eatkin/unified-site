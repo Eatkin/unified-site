{
 "cells": [
  {
   "cell_type": "code",
   "execution_count": 1,
   "metadata": {},
   "outputs": [],
   "source": [
    "from google.cloud import storage\n",
    "from firebase_admin import firestore, initialize_app\n",
    "\n",
    "# Establish a connection to the Google Cloud Storage and Firestore\n",
    "storage_client = storage.Client()\n",
    "bucket = storage_client.bucket('website-content12345')\n",
    "initialize_app()\n",
    "db = firestore.client()"
   ]
  },
  {
   "cell_type": "code",
   "execution_count": 2,
   "metadata": {},
   "outputs": [
    {
     "data": {
      "text/plain": [
       "update_time {\n",
       "  seconds: 1720282478\n",
       "  nanos: 194105000\n",
       "}"
      ]
     },
     "execution_count": 2,
     "metadata": {},
     "output_type": "execute_result"
    }
   ],
   "source": [
    "from datetime import datetime\n",
    "# Okay let's insert some data into Firestore\n",
    "doc_ref = db.collection('feed').document('content-log')\n",
    "\n",
    "timestamp = datetime.now()\n",
    "timestamp = timestamp.strftime(\"%Y-%m-%d %H:%M:%S\")\n",
    "\n",
    "data = {\n",
    "    timestamp: {\n",
    "        'title': 'Test Blog',\n",
    "        'location': 'blogs/test-blog.md',\n",
    "    }\n",
    "}\n",
    "\n",
    "# Upload it\n",
    "doc_ref.set(data)"
   ]
  },
  {
   "cell_type": "code",
   "execution_count": 4,
   "metadata": {},
   "outputs": [
    {
     "data": {
      "text/plain": [
       "{'2024-07-06 17:14:38': {'location': 'blogs/test-blog.md'}}"
      ]
     },
     "execution_count": 4,
     "metadata": {},
     "output_type": "execute_result"
    }
   ],
   "source": [
    "feed = db.collection('feed').document('content-log')\n",
    "data = feed.get().to_dict()\n",
    "\n",
    "# Sort by key (timestamp) desc\n",
    "data = dict(sorted(data.items(), key=lambda item: item[0], reverse=True))\n",
    "data"
   ]
  },
  {
   "cell_type": "code",
   "execution_count": 9,
   "metadata": {},
   "outputs": [
    {
     "data": {
      "text/plain": [
       "{'title': 'Test Post',\n",
       " 'author': 'Ed',\n",
       " 'date': '2024-07-06',\n",
       " 'tags': '\"coding\", \"python\"',\n",
       " 'type': 'blog',\n",
       " 'description': 'This is a blog post about coding in Python.',\n",
       " 'thumbnail': 'images/awesome-blog-post-thumbnail.jpg',\n",
       " 'og_title': 'Awesome Blog Post',\n",
       " 'og_description': 'An amazing blog post about coding in Python.',\n",
       " 'og_image': 'images/awesome-blog-post-og.jpg'}"
      ]
     },
     "execution_count": 9,
     "metadata": {},
     "output_type": "execute_result"
    }
   ],
   "source": [
    "for key, value in data.items():\n",
    "    blob = bucket.blob(value['location'])\n",
    "    md = blob.download_as_string().decode('utf-8')\n",
    "\n",
    "# We can capture the section between --- and --- and use it as metadata\n",
    "metadata = md.split('---')[1]\n",
    "description = {}\n",
    "for line in metadata.split('\\n'):\n",
    "    if line:\n",
    "        split_line = line.split(':')\n",
    "        key = split_line[0].strip()\n",
    "        # Remove the quotes\n",
    "        value = \":\".join(split_line[1:]).strip()[1:-1]\n",
    "        description[key.strip()] = value\n",
    "\n",
    "description"
   ]
  },
  {
   "cell_type": "code",
   "execution_count": null,
   "metadata": {},
   "outputs": [],
   "source": []
  }
 ],
 "metadata": {
  "kernelspec": {
   "display_name": "homepage",
   "language": "python",
   "name": "python3"
  },
  "language_info": {
   "codemirror_mode": {
    "name": "ipython",
    "version": 3
   },
   "file_extension": ".py",
   "mimetype": "text/x-python",
   "name": "python",
   "nbconvert_exporter": "python",
   "pygments_lexer": "ipython3",
   "version": "3.10.6"
  }
 },
 "nbformat": 4,
 "nbformat_minor": 2
}
